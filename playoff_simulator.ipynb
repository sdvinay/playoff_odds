{
 "cells": [
  {
   "cell_type": "code",
   "execution_count": 2,
   "metadata": {},
   "outputs": [],
   "source": [
    "from scipy.stats import binom\n",
    "import pandas as pd\n",
    "\n",
    "import playoff_odds\n"
   ]
  },
  {
   "cell_type": "code",
   "execution_count": 3,
   "metadata": {},
   "outputs": [],
   "source": [
    "def p_from_diff(diff):\n",
    "    return 1/(10**(-diff/400)+1)"
   ]
  },
  {
   "cell_type": "code",
   "execution_count": 4,
   "metadata": {},
   "outputs": [],
   "source": [
    "def p_game(r_home, r_away):\n",
    "    return p_from_diff(24 + r_home - r_away)"
   ]
  },
  {
   "cell_type": "code",
   "execution_count": 5,
   "metadata": {},
   "outputs": [
    {
     "data": {
      "text/plain": [
       "team1\n",
       "LAD    1617.704399\n",
       "SEA    1529.693146\n",
       "SDP    1519.142656\n",
       "NYM    1556.350902\n",
       "MIL    1525.470851\n",
       "HOU    1571.863818\n",
       "FLA    1466.686669\n",
       "CLE    1506.165357\n",
       "CIN    1471.741730\n",
       "CHW    1512.886520\n",
       "BOS    1509.251216\n",
       "TEX    1470.160012\n",
       "PIT    1421.294978\n",
       "BAL    1489.584136\n",
       "OAK    1437.261167\n",
       "ANA    1494.235042\n",
       "SFG    1503.418642\n",
       "CHC    1466.378744\n",
       "STL    1534.425759\n",
       "TOR    1544.341328\n",
       "WSN    1443.642873\n",
       "NYY    1565.776876\n",
       "ATL    1578.080101\n",
       "DET    1444.361049\n",
       "MIN    1509.499468\n",
       "ARI    1485.637317\n",
       "COL    1450.550429\n",
       "KCR    1455.444731\n",
       "TBD    1539.519892\n",
       "PHI    1529.430192\n",
       "Name: rating, dtype: float64"
      ]
     },
     "execution_count": 5,
     "metadata": {},
     "output_type": "execute_result"
    }
   ],
   "source": [
    "(played, remain) = playoff_odds.get_games()\n",
    "ratings = remain[['team1', 'rating1_pre']].drop_duplicates().set_index('team1')['rating1_pre'].rename('rating')\n",
    "ratings"
   ]
  },
  {
   "cell_type": "code",
   "execution_count": 13,
   "metadata": {},
   "outputs": [
    {
     "data": {
      "text/plain": [
       "1617.7043994612"
      ]
     },
     "execution_count": 13,
     "metadata": {},
     "output_type": "execute_result"
    }
   ],
   "source": [
    "ratings['LAD']"
   ]
  },
  {
   "cell_type": "code",
   "execution_count": 7,
   "metadata": {},
   "outputs": [
    {
     "data": {
      "text/plain": [
       "0.6694109561248396"
      ]
     },
     "execution_count": 7,
     "metadata": {},
     "output_type": "execute_result"
    }
   ],
   "source": [
    "p_game(ratings['LAD'], ratings['SDP'])"
   ]
  },
  {
   "cell_type": "code",
   "execution_count": 8,
   "metadata": {},
   "outputs": [],
   "source": [
    "def p_series3(r_home, r_away):\n",
    "    p_g = p_game(r_home, r_away)\n",
    "    \n",
    "    # Binomial chance of winning at least 2 of 3 when all games are at p_g\n",
    "    return sum([binom.pmf(i, 3, p_g) for i in range(2, 4)])"
   ]
  },
  {
   "cell_type": "code",
   "execution_count": 9,
   "metadata": {},
   "outputs": [
    {
     "data": {
      "text/plain": [
       "0.5516439044456302"
      ]
     },
     "execution_count": 9,
     "metadata": {},
     "output_type": "execute_result"
    }
   ],
   "source": [
    "p_series3(1500, 1500)"
   ]
  },
  {
   "cell_type": "code",
   "execution_count": 10,
   "metadata": {},
   "outputs": [
    {
     "data": {
      "text/plain": [
       "0.5939773617521806"
      ]
     },
     "execution_count": 10,
     "metadata": {},
     "output_type": "execute_result"
    }
   ],
   "source": [
    "p_series3(1520, 1500)"
   ]
  },
  {
   "cell_type": "code",
   "execution_count": 11,
   "metadata": {},
   "outputs": [],
   "source": [
    "def p_series5(r_home, r_away):\n",
    "    p_g1 = p_game(r_home, r_away)\n",
    "    p_g2 = p_game(r_away, r_home)\n",
    "\n",
    "\n",
    "    dist1 = pd.Series({i: binom.pmf(i, 3, p_g1) for i in range(0, 4)})\n",
    "    dist2 = pd.Series({2-i: binom.pmf(i, 2, p_g2) for i in range(0, 3)})\n",
    "\n",
    "    total = {(i,j): (i+j, dist1[i]*dist2[j]) for i in dist1.keys() for j in dist2.keys()}\n",
    "    ps = pd.DataFrame(total).T.rename(columns = {0: 'w', 1: 'p'}).groupby('w')['p'].sum()\n",
    "    return (ps[3:].sum())\n",
    "\n",
    "def p_series7(r_home, r_away):\n",
    "    p_g1 = p_game(r_home, r_away)\n",
    "    p_g2 = p_game(r_away, r_home)\n",
    "\n",
    "\n",
    "    dist1 = pd.Series({i: binom.pmf(i, 4, p_g1) for i in range(0, 5)})\n",
    "    dist2 = pd.Series({3-i: binom.pmf(i, 3, p_g2) for i in range(0, 4)})\n",
    "\n",
    "    total = {(i,j): (i+j, dist1[i]*dist2[j]) for i in dist1.keys() for j in dist2.keys()}\n",
    "    ps = pd.DataFrame(total).T.rename(columns = {0: 'w', 1: 'p'}).groupby('w')['p'].sum()\n",
    "    return (ps[4:].sum())"
   ]
  },
  {
   "cell_type": "code",
   "execution_count": 14,
   "metadata": {},
   "outputs": [
    {
     "data": {
      "text/plain": [
       "0.7587817957990288"
      ]
     },
     "execution_count": 14,
     "metadata": {},
     "output_type": "execute_result"
    }
   ],
   "source": [
    "p_series5(1600, 1500)\n"
   ]
  },
  {
   "cell_type": "code",
   "execution_count": 15,
   "metadata": {},
   "outputs": [
    {
     "data": {
      "text/plain": [
       "0.5108071349156493"
      ]
     },
     "execution_count": 15,
     "metadata": {},
     "output_type": "execute_result"
    }
   ],
   "source": [
    "p_series7(1500, 1500)"
   ]
  },
  {
   "cell_type": "code",
   "execution_count": 16,
   "metadata": {},
   "outputs": [
    {
     "data": {
      "text/plain": [
       "[1617.7043994612,\n",
       " 1556.35090191654,\n",
       " 1534.42575931518,\n",
       " 1578.08010106132,\n",
       " 1529.43019221744,\n",
       " 1519.14265559203]"
      ]
     },
     "execution_count": 16,
     "metadata": {},
     "output_type": "execute_result"
    }
   ],
   "source": [
    "# OK now let's simulate a specific post-season\n",
    "\n",
    "# LAD, NYM, STL, ATL, PHI SDP\n",
    "seeds = dict(enumerate(['LAD', 'NYM', 'STL', 'ATL', 'PHI', 'SDP'], 1))\n",
    "[ratings[tm] for tm in seeds.values()]"
   ]
  },
  {
   "cell_type": "code",
   "execution_count": 17,
   "metadata": {},
   "outputs": [
    {
     "data": {
      "text/plain": [
       "{'STL': 0.5840831001315994, 'SDP': 0.41591689986840064}"
      ]
     },
     "execution_count": 17,
     "metadata": {},
     "output_type": "execute_result"
    }
   ],
   "source": [
    "# 3 vs 6\n",
    "p = p_series3(ratings[seeds[3]], ratings[seeds[6]])\n",
    "{seeds[3]: p, seeds[6]: 1 -p}"
   ]
  },
  {
   "cell_type": "code",
   "execution_count": 18,
   "metadata": {},
   "outputs": [],
   "source": [
    "def run_series(series_func, s1, s2):\n",
    "    p = series_func(ratings[seeds[s1]], ratings[seeds[s2]])\n",
    "    return {s1: p, s2: 1 -p}"
   ]
  },
  {
   "cell_type": "code",
   "execution_count": 19,
   "metadata": {},
   "outputs": [
    {
     "data": {
      "text/plain": [
       "{3: 0.5840831001315994, 6: 0.41591689986840064}"
      ]
     },
     "execution_count": 19,
     "metadata": {},
     "output_type": "execute_result"
    }
   ],
   "source": [
    "\n",
    "\n",
    "p36 = run_series(p_series3, 3, 6)\n",
    "p36"
   ]
  },
  {
   "cell_type": "code",
   "execution_count": 20,
   "metadata": {},
   "outputs": [
    {
     "data": {
      "text/plain": [
       "2    0.588193\n",
       "3    0.250233\n",
       "6    0.161574\n",
       "dtype: float64"
      ]
     },
     "execution_count": 20,
     "metadata": {},
     "output_type": "execute_result"
    }
   ],
   "source": [
    "# 2 vs 3/6\n",
    "\n",
    "\n",
    "def run_scenario(tm):\n",
    "    ps = run_series(p_series5, 2, tm)\n",
    "    adj_ps = pd.Series({i: ps[i]*p36[tm] for i in ps.keys()})\n",
    "    return adj_ps\n",
    "\n",
    "pd.concat([run_scenario(tm) for tm in p36.keys()], axis=1).fillna(0).sum(axis=1)\n"
   ]
  },
  {
   "cell_type": "code",
   "execution_count": 21,
   "metadata": {},
   "outputs": [],
   "source": [
    "def run_series(length, teams_l, teams_r):\n",
    "    series_func = series_funcs[length]\n",
    "    def run_scenario(sl, pl, sr, pr):\n",
    "        s1 = sl if sl < sr else sr\n",
    "        s2 = sl if sl > sr else sr\n",
    "        p_this_matchup = pl * pr\n",
    "        ps = series_func(ratings[seeds[s1]], ratings[seeds[s2]])\n",
    "        return pd.Series({s1: p_this_matchup*ps, s2: p_this_matchup*(1-ps)})\n",
    "\n",
    "    ps = [run_scenario(sl, pl, sr, pr) for (sl, pl) in teams_l.items() for (sr, pr) in teams_r.items()]\n",
    "    return pd.concat(ps, axis=1).fillna(0).sum(axis=1)\n",
    "            "
   ]
  },
  {
   "cell_type": "code",
   "execution_count": 22,
   "metadata": {},
   "outputs": [],
   "source": [
    "series_funcs = {1: p_game, 3: p_series3, 5: p_series5, 7: p_series7}"
   ]
  },
  {
   "cell_type": "code",
   "execution_count": 23,
   "metadata": {},
   "outputs": [
    {
     "data": {
      "text/plain": [
       "3    0.584083\n",
       "6    0.415917\n",
       "dtype: float64"
      ]
     },
     "execution_count": 23,
     "metadata": {},
     "output_type": "execute_result"
    }
   ],
   "source": [
    "run_series(3, {3: 1}, {6: 1})"
   ]
  },
  {
   "cell_type": "code",
   "execution_count": 24,
   "metadata": {},
   "outputs": [
    {
     "data": {
      "text/plain": [
       "2    0.588196\n",
       "3    0.250198\n",
       "6    0.161607\n",
       "dtype: float64"
      ]
     },
     "execution_count": 24,
     "metadata": {},
     "output_type": "execute_result"
    }
   ],
   "source": [
    "run_series(5, {3: .584, 6: 1-.584}, {2: 1})"
   ]
  },
  {
   "cell_type": "code",
   "execution_count": 25,
   "metadata": {},
   "outputs": [
    {
     "data": {
      "text/plain": [
       "2    0.588193\n",
       "3    0.250233\n",
       "6    0.161574\n",
       "dtype: float64"
      ]
     },
     "execution_count": 25,
     "metadata": {},
     "output_type": "execute_result"
    }
   ],
   "source": [
    "d1 = run_series(5, run_series(3, {3: 1}, {6: 1}), {2: 1})\n",
    "d1"
   ]
  },
  {
   "cell_type": "code",
   "execution_count": 26,
   "metadata": {},
   "outputs": [
    {
     "data": {
      "text/plain": [
       "1    0.658123\n",
       "4    0.249387\n",
       "5    0.092489\n",
       "dtype: float64"
      ]
     },
     "execution_count": 26,
     "metadata": {},
     "output_type": "execute_result"
    }
   ],
   "source": [
    "d2 = run_series(5, run_series(3, {4: 1}, {5: 1}), {1: 1})\n",
    "d2"
   ]
  },
  {
   "cell_type": "code",
   "execution_count": 27,
   "metadata": {},
   "outputs": [
    {
     "data": {
      "text/plain": [
       "1    0.476355\n",
       "2    0.215538\n",
       "4    0.148402\n",
       "5    0.041139\n",
       "3    0.076559\n",
       "6    0.042007\n",
       "dtype: float64"
      ]
     },
     "execution_count": 27,
     "metadata": {},
     "output_type": "execute_result"
    }
   ],
   "source": [
    "nlcs = run_series(7, d1, d2)\n",
    "nlcs"
   ]
  },
  {
   "cell_type": "code",
   "execution_count": 28,
   "metadata": {},
   "outputs": [
    {
     "data": {
      "text/plain": [
       "{'LAD': 0.4763546163765622,\n",
       " 'NYM': 0.21553796157918859,\n",
       " 'STL': 0.07655899320357244,\n",
       " 'ATL': 0.14840240079557068,\n",
       " 'PHI': 0.041139250105256306,\n",
       " 'SDP': 0.04200677793984979}"
      ]
     },
     "execution_count": 28,
     "metadata": {},
     "output_type": "execute_result"
    }
   ],
   "source": [
    "{seeds[sd]: nlcs[sd] for sd in seeds}"
   ]
  },
  {
   "cell_type": "code",
   "execution_count": null,
   "metadata": {},
   "outputs": [],
   "source": []
  }
 ],
 "metadata": {
  "kernelspec": {
   "display_name": "Python 3.10.6 64-bit ('3.10.6')",
   "language": "python",
   "name": "python3"
  },
  "language_info": {
   "codemirror_mode": {
    "name": "ipython",
    "version": 3
   },
   "file_extension": ".py",
   "mimetype": "text/x-python",
   "name": "python",
   "nbconvert_exporter": "python",
   "pygments_lexer": "ipython3",
   "version": "3.10.6"
  },
  "orig_nbformat": 4,
  "vscode": {
   "interpreter": {
    "hash": "cd16be653e7212c8823498bfcc007b2d6eef9636d8c9052adca71d52ce59af73"
   }
  }
 },
 "nbformat": 4,
 "nbformat_minor": 2
}
